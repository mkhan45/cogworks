{
 "cells": [
  {
   "cell_type": "code",
   "execution_count": 2,
   "metadata": {},
   "outputs": [
    {
     "name": "stdout",
     "output_type": "stream",
     "text": [
      "yeet\n"
     ]
    }
   ],
   "source": [
    "print(\"yeet\")"
   ]
  },
  {
   "cell_type": "code",
   "execution_count": 3,
   "metadata": {},
   "outputs": [
    {
     "name": "stdout",
     "output_type": "stream",
     "text": [
      "Megan, Imagine Dragons\n",
      "Mikail, Historical Fiction\n",
      "Aneesh, A series of unfortunate events\n",
      "Charles, Nanotech documentary\n"
     ]
    }
   ],
   "source": [
    "asdf = {}\n",
    "asdf['Megan'] = \"Imagine Dragons\"\n",
    "asdf['Mikail'] = \"Historical Fiction\"\n",
    "asdf[\"Aneesh\"] = \"A series of unfortunate events\"\n",
    "asdf[\"Charles\"] = \"Nanotech documentary\"\n",
    "\n",
    "for key in asdf:\n",
    "    print(key + \", \" + asdf[key])"
   ]
  },
  {
   "cell_type": "code",
   "execution_count": 15,
   "metadata": {},
   "outputs": [
    {
     "name": "stdout",
     "output_type": "stream",
     "text": [
      "[5, 6, 7, 8, 9]\n",
      "[]\n"
     ]
    }
   ],
   "source": [
    "a = list(range(5, 10))\n",
    "b = list(range(10, 5))\n",
    "c = zip(a, b)\n",
    "print(a)\n",
    "print(b)\n"
   ]
  },
  {
   "cell_type": "code",
   "execution_count": null,
   "metadata": {},
   "outputs": [],
   "source": []
  }
 ],
 "metadata": {
  "kernelspec": {
   "display_name": "Python 3",
   "language": "python",
   "name": "python3"
  },
  "language_info": {
   "codemirror_mode": {
    "name": "ipython",
    "version": 3
   },
   "file_extension": ".py",
   "mimetype": "text/x-python",
   "name": "python",
   "nbconvert_exporter": "python",
   "pygments_lexer": "ipython3",
   "version": "3.7.3"
  }
 },
 "nbformat": 4,
 "nbformat_minor": 2
}
