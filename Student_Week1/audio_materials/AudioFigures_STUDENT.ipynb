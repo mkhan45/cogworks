{
 "cells": [
  {
   "cell_type": "markdown",
   "metadata": {},
   "source": [
    "# Audio Figures"
   ]
  },
  {
   "cell_type": "markdown",
   "metadata": {},
   "source": [
    "### A Propagating Pressure Wave \n",
    "\n",
    "The following animation shows a pressure-wave propagating to the right. Regions of compression (high pressure) and rarefaction (low-pressure) oscillate in both time and space. \n",
    "\n",
    "Pay attention to the red particles. Notice that they do not actually travel to the right, rather they rock back and forth as the high-pressure and low-pressure regions of the wave wash over them. It is important to understand that what is being transported by this wave are the pressure fluctuations, not the individual particles."
   ]
  },
  {
   "cell_type": "markdown",
   "metadata": {},
   "source": [
    "<img src=\"http://www.acs.psu.edu/drussell/Demos/waves/Lwave-v8.gif\">\n",
    "\n",
    "### A Sound Wave\n",
    "A sound wave is a pressure-wave that propagates amidst air molecules. The human ear is sensitive to pressure waves that oscillate within the frequency-range of 20Hz (i.e. a wave whose pressure-peak repeats itself 20 times every second) and 20kHz (i.e. a wave whose pressure-peak repeats itself 20-thousand times every second). A sound wave that oscillates at 20 Hz would sound like a single, extremely low-pitch note. A sound wave that oscillates at 20 kHz would sound like a single, annoyingly high-pitch note.\n",
    "\n",
    "The amplitude of a compression wave is the highest pressure that the wave repeatedly reaches. We perceive amplitude as volume - waves with extreme variations in pressure (very high-pressure regions of compression and extreme low-pressure rarefactions) are loud to us.\n",
    "\n",
    "A typical sound wave moves through the air with a speed of 767 mph (1,235 km/h). By \"speed\" we mean the rate at which any give compression-region moves through space. If you measure the rate at which the circular region of compression moves radially outward from the speaker (in the diagram below), that would be a measure of the speed of that sound wave.\n",
    "\n",
    "Again, notice that the air molecules are not actually experiencing a net-displacement outwards. It is only the pressure fluctuations that propagate!\n",
    "\n",
    "<img src=\"http://www.npr.org/assets/img/2014/04/08/compressionwave.gif\">"
   ]
  },
  {
   "cell_type": "markdown",
   "metadata": {},
   "source": [
    "### Standing Pressure Wave\n",
    "\n",
    "The following animations shows a special scenario in which a compression wave can be driven towards the right, and reflected off a surface back to the left. The combined right-moving wave, overlapped with the reflected left-moving wave, sum to create a so-called standing pressure wave. This is aptly named as this wave oscillates in time and **does not oscillate in space**. That is, a given point in space always has the same *amplitude* of fluctuation in pressure associated with it.\n",
    " \n",
    "<img src=\"http://www.acs.psu.edu/drussell/Demos/StandingWaves/standing.gif\">\n",
    "\n",
    "Note that there is a red particle that stands perfectly-still at all times. If you stood in this spot in a room with a standing sound wave, what would you hear? See if your neighbor has reached this point in the reading material and chat with them about it. What would it sound like if you slowly stepped away from this low-amplitude region to a high-amplitude region.\n",
    "\n",
    "Although standing sound waves *can* be created, they are not something we experience in our day-to-day lives.\n",
    "\n",
    "### How Do We Record Sound?\n",
    "\n",
    "We record sound by translating the oscillations in pressure, as carried by a sound wave, into oscillations in an electric signal (i.e. voltage in a circuit). This is what a microphone does!\n",
    "\n",
    "An impinging sound wave oscillates a diaphragm on the microphone, which in turn shakes a magnet back and forth. The fundamental laws of electricity and magnetism say that an oscillating magnet creates an oscillating, winding electric field, which has the potential to push electrons back and forth in a wire. This potential is what voltage is. The magnet is wrapped by a coil of wire. The oscillating voltage in this wire is known as an *analog signal*, and this is something that we are very good at recording! More on this later.\n",
    "\n",
    "Thus, all of the vibrations in the impinging sound wave have a direct correspondence to the oscillations in the magnet, which creates an oscillating voltage in a wire. High-frequency sound waves create high-frequency oscillations in voltage. Low amplitude sound waves create shallow oscillations in the magnet and thus low-amplitude variations in voltage within the signal. Our microphone can faithfully record both the frequency (i.e the \"notes\") of our sound wave as well as its amplitude (i.e. its volume).  \n",
    "\n",
    "<img src=\"https://ear-central.com/wp-content/uploads/2012/12/mic-diagram.png\">\n",
    "\n",
    "<img src=\"http://www.mediacollege.com/audio/images/mic-dynamic.gif\">\n",
    "\n"
   ]
  }
 ],
 "metadata": {
  "kernelspec": {
   "display_name": "Python 3",
   "language": "python",
   "name": "python3"
  },
  "language_info": {
   "codemirror_mode": {
    "name": "ipython",
    "version": 3
   },
   "file_extension": ".py",
   "mimetype": "text/x-python",
   "name": "python",
   "nbconvert_exporter": "python",
   "pygments_lexer": "ipython3",
   "version": "3.7.3"
  }
 },
 "nbformat": 4,
 "nbformat_minor": 2
}
