{
 "cells": [
  {
   "cell_type": "code",
   "execution_count": 1,
   "metadata": {},
   "outputs": [],
   "source": [
    "import matplotlib.pyplot as plt\n",
    "import numpy as np\n",
    "%matplotlib notebook"
   ]
  },
  {
   "cell_type": "markdown",
   "metadata": {},
   "source": [
    "## 1. Audio Signal Basics\n",
    "1.1 Create a python function that describes a pressure wave that is impinging on a microphone. Assume that the sound wave is a sustained, single note of frequency $f$ and amplitude $A$, and that $p(0) = 0$ (hint: which sinusoidal function, $sin(x)$ or $cos(x)$ is $0$, at $x=0$ ? ). This represents our *analog signal*. The function that you create is defined on a continuous domain."
   ]
  },
  {
   "cell_type": "code",
   "execution_count": 2,
   "metadata": {},
   "outputs": [],
   "source": [
    "def p(t, A, f): \n",
    "    \"\"\"Describes a sound wave impinging a microphone \n",
    "    at times `t` (an array of times). The wave has an \n",
    "    amplitude `A` and a frequency `f`.\n",
    "    \n",
    "    Note: we only care about the wave at the microphone,\n",
    "    which is why we do not have any spatial component to\n",
    "    our wave.\n",
    "    \n",
    "    Parameters\n",
    "    ----------\n",
    "    t : numpy.ndarray, shape=(N,)\n",
    "        The times at which we want to evaluate the sound wave\n",
    "    \n",
    "    A : float\n",
    "        The wave's amplitude (a measure of pressure)\n",
    "    \n",
    "    f : float\n",
    "        The wave's frequency (measured in Hz - oscillations per second)\n",
    "    \n",
    "    Returns\n",
    "    -------\n",
    "    numpy.ndarray, shape=(N,)\n",
    "        The pressure at the microphone at times `t`\"\"\"\n",
    "    #  * a\n",
    "    pass"
   ]
  },
  {
   "cell_type": "markdown",
   "metadata": {},
   "source": [
    "1.2. The function that you just wrote can be thought of as a representation of the analog signal that is recorded by our microphone: it represents the continuous fluctuations in voltage that is produced by the oscillating magnet in our microphone. We can \"sample\" this analog signal by evaluating the function at specific times. \n",
    "\n",
    "Sample the analog signal of a sound wave for a $C_{4}$-note (261.63 Hz) played for 3 seconds. Use the standard audio sampling rate (44100 Hz). That is, evaluate your function at regularly-spaced times according to this sampling rate and time duration. You may want to use [`numpy.linspace`](https://docs.scipy.org/doc/numpy/reference/generated/numpy.linspace.html) to generate the times at which you will sample."
   ]
  },
  {
   "cell_type": "code",
   "execution_count": null,
   "metadata": {},
   "outputs": [],
   "source": [
    "pass"
   ]
  },
  {
   "cell_type": "markdown",
   "metadata": {},
   "source": [
    "1.3 Plot 3 periods of the sound wave, with the x-axis labeled with units.\n",
    "\n",
    "Pseudo code for plotting:\n",
    "\n",
    "```python\n",
    "fig, ax = plt.subplots()\n",
    "t = # array/sequence of times\n",
    "amp = # array/sequence of samples\n",
    "ax.plot(t, amp, marker='x')\n",
    "ax.set_xlabel(\"t (seconds)\");\n",
    "```"
   ]
  },
  {
   "cell_type": "code",
   "execution_count": null,
   "metadata": {},
   "outputs": [],
   "source": [
    "pass"
   ]
  },
  {
   "cell_type": "markdown",
   "metadata": {},
   "source": [
    "Play the 3-second audio using\n",
    "\n",
    "```python\n",
    "from IPython.display import Audio\n",
    "Audio(data, rate=???)\n",
    "```\n",
    "Note that `Audio` automatically normalized the volume according to its slider, so the amplitude that we set will have no effect. Adjusting the amplitude would typically manifest as a change in volume!"
   ]
  },
  {
   "cell_type": "code",
   "execution_count": null,
   "metadata": {},
   "outputs": [],
   "source": [
    "pass"
   ]
  },
  {
   "cell_type": "markdown",
   "metadata": {},
   "source": [
    "1.4 Plot the wave form of the C-major triad for 0.64 seconds. This should be the sum of three sine waves of equal amplitudes (1) of the following respective frequencies:\n",
    " - 523.25 Hz (C)\n",
    " - 659.25 Hz (E)\n",
    " - 783.99 Hz (G)\n",
    " \n",
    "Here is the pseudocode for plotting\n",
    "\n",
    "```python\n",
    "fig, ax = plt.subplots()\n",
    "ax.plot(time, amps)\n",
    "ax.set_xlabel(\"t (seconds)\")\n",
    "ax.set_title(\"Major Triad\");\n",
    "```"
   ]
  },
  {
   "cell_type": "code",
   "execution_count": null,
   "metadata": {},
   "outputs": [],
   "source": [
    "pass"
   ]
  },
  {
   "cell_type": "markdown",
   "metadata": {},
   "source": [
    "Play the major triad audio clip for 3 seconds."
   ]
  },
  {
   "cell_type": "code",
   "execution_count": null,
   "metadata": {},
   "outputs": [],
   "source": [
    "pass"
   ]
  },
  {
   "cell_type": "markdown",
   "metadata": {},
   "source": [
    "Isn't it beautiful? 😛\n",
    "Notice how messy looking the waveform is. It is wholly unintuitive to look at the data in this way, even though it is only comprised of 3 simple notes. In the next section, we will see that we can convert this *amplitude-time* data into *amplitude-frequency* data, which is much more useful for us! This conversion process is known as a **Fourier Transform**. "
   ]
  },
  {
   "cell_type": "markdown",
   "metadata": {},
   "source": [
    "Now, define a function that describes a pressure wave for **noise** (use `numpy.random.rand` to generate samples randomly between 0 and 1). Plot some of its \"wave form\"."
   ]
  },
  {
   "cell_type": "code",
   "execution_count": null,
   "metadata": {},
   "outputs": [],
   "source": [
    "pass"
   ]
  },
  {
   "cell_type": "markdown",
   "metadata": {},
   "source": [
    "Now play 3 seconds of noise!"
   ]
  },
  {
   "cell_type": "code",
   "execution_count": null,
   "metadata": {},
   "outputs": [],
   "source": [
    "pass"
   ]
  }
 ],
 "metadata": {
  "kernelspec": {
   "display_name": "Python 3",
   "language": "python",
   "name": "python3"
  },
  "language_info": {
   "codemirror_mode": {
    "name": "ipython",
    "version": 3
   },
   "file_extension": ".py",
   "mimetype": "text/x-python",
   "name": "python",
   "nbconvert_exporter": "python",
   "pygments_lexer": "ipython3",
   "version": "3.7.3"
  }
 },
 "nbformat": 4,
 "nbformat_minor": 2
}
