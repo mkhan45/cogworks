{
 "cells": [
  {
   "cell_type": "markdown",
   "metadata": {},
   "source": [
    "# Analog to Digital Encoding: Sampling Rate and Bit-Depth\n",
    "\n",
    "> AJ Federici & Ryan Soklaski\n",
    "\n",
    "This notebook provides some insight into [pulse code modulation](https://en.wikipedia.org/wiki/Pulse-code_modulation), which is the process that we have been discussing for digitally representing an analog signal. As discussed in class, the digital encoding  of an analog signal, via PCM, is characterized by two primary factors:\n",
    "1. The **sampling rate**: the number of times that we sample the analog signal each second (sampling evenly in time)\n",
    "2. The **bit-depth**: the number of bits that we can use to record the amplitude of the signal. E.g. A 4-bit encoding would only permit us to use only $2^4 = 16$ distinct amplitude values in our digital representation of the signal"
   ]
  },
  {
   "cell_type": "code",
   "execution_count": null,
   "metadata": {},
   "outputs": [],
   "source": [
    "%load_ext autoreload\n",
    "%autoreload 2"
   ]
  },
  {
   "cell_type": "code",
   "execution_count": null,
   "metadata": {},
   "outputs": [],
   "source": [
    "from audio_sampling import analog_to_digital, song_to_digital, turn_off_ticks\n",
    "\n",
    "import numpy as np\n",
    "import librosa\n",
    "import numpy as np\n",
    "import matplotlib.pyplot as plt\n",
    "from IPython.display import Audio"
   ]
  },
  {
   "cell_type": "markdown",
   "metadata": {},
   "source": [
    "The following plot shows an analog signal (blue curve) *whose duration is 2 seconds*, and various digitized versions of the signal (orange). The bit-depth used in the digital encoding scheme varies across the plot's columns: \n",
    "- 2 bits to 4 bits to 8 bits (left to right). \n",
    "\n",
    "The sampling rate varies from row-to-row: \n",
    "- 1 Hz to 10 Hz to 100 Hz (top to bottom).\n",
    "\n",
    "Study how these two factors impact the digital signal's quality in replicating the analog signal. Converse with your neighbors and share your observations."
   ]
  },
  {
   "cell_type": "code",
   "execution_count": null,
   "metadata": {},
   "outputs": [],
   "source": [
    "%matplotlib notebook\n",
    "\n",
    "fig, axes = plt.subplots(nrows=3, ncols=3)\n",
    "\n",
    "for i, sample_rate in enumerate([1, 10, 100]):\n",
    "    for j, bits in enumerate([2, 4, 8]):\n",
    "        analog_to_digital(axes[i, j], sample_rate, bits, digital_graph=True)\n",
    "        #axes[i, j].xaxis.set_major_locator(plt.NullLocator())\n",
    "        #axes[i, j].yaxis.set_major_locator(plt.NullLocator())\n",
    "        if (i == 0 or i == 2):\n",
    "            if i == 0:\n",
    "                axes[i, j].set_title(\"Number of Bits={}\\nSample Rate={}Hz\".format(bits, sample_rate))\n",
    "            else:\n",
    "                axes[i, j].set_xlabel(\"Number of Bits={}\\nSample Rate={}Hz\".format(bits, sample_rate))\n",
    "        axes[i, j].grid(True)\n",
    "        turn_off_ticks(axes[i, j])"
   ]
  },
  {
   "cell_type": "markdown",
   "metadata": {},
   "source": [
    "Now we will experience how these digitization artifacts manifest in actual digital music. Update the following path to point to a music file (.mp3, .wav; it may be that other formats are supported too)."
   ]
  },
  {
   "cell_type": "code",
   "execution_count": null,
   "metadata": {},
   "outputs": [],
   "source": [
    "from pathlib import Path\n",
    "\n",
    "# make sure that this variable is assigned to a path to a music file on your computer\n",
    "\n",
    "song_root = Path(r\"C:\\Users\\Ryan Soklaski\\Desktop\\Ryan's Music\")\n",
    "local_song_path = song_root / r\"Battles\\Gloss Drop\\03 - Futura.mp3\"\n",
    "\n",
    "# load the digital signal for the first 11 seconds of the song\n",
    "samples, fs = librosa.load(local_song_path, sr=44100, mono=True, duration=11)"
   ]
  },
  {
   "cell_type": "markdown",
   "metadata": {},
   "source": [
    "Executing the following code will plot the native digital waveform for the first 11 seconds of the song you selected. It is likely that this recording was digitized at a sampling rate of 44100 Hz, and with a bit-depth of 16. Plotted on top of it is the signal digitized with a 10 Hz sampling rate, and a bit-depth of 6. Note that this digitization washes out nearly all of the song's features."
   ]
  },
  {
   "cell_type": "code",
   "execution_count": null,
   "metadata": {},
   "outputs": [],
   "source": [
    "sampling_rate = 10. # Hz\n",
    "quantizing_bits = 6\n",
    "song_to_digital(local_song_path, sampling_rate, quantizing_bits)"
   ]
  },
  {
   "cell_type": "markdown",
   "metadata": {},
   "source": [
    "Finally, let's listen to this 11 second clip using various values for `sampling_rate` and `bit_depth`. Start with settings that will perfectly recreate the audio clip and then go from there!"
   ]
  },
  {
   "cell_type": "code",
   "execution_count": null,
   "metadata": {},
   "outputs": [],
   "source": [
    "pass"
   ]
  },
  {
   "cell_type": "code",
   "execution_count": null,
   "metadata": {},
   "outputs": [],
   "source": [
    "# This is how the song sounds given your sampling rate and decision for how many bits of info to use when sampling\n",
    "# Will use the same sampling and quantizing bits variables as above\n",
    "# Read through this cell and then run it\n",
    "\n",
    "time = np.linspace(0, 11, 11 * 44100)  # play 11-seconds-worth of samples\n",
    "skip = int(len(samples) / (11 * sampling_rate))\n",
    "sampling_signal = samples[::skip]\n",
    "\n",
    "quantizing_levels = 2 ** (bit_depth - 1)\n",
    "quantizing_step = 1. / quantizing_levels\n",
    "\n",
    "quantizing_signal = np.round (sampling_signal / quantizing_step) * quantizing_step\n",
    "\n",
    "# create a new signal as if it was sampled at `sampling_rate` frequency\n",
    "# try changing this and playing the audio again\n",
    "new_l = len(time) / len(quantizing_signal)\n",
    "\n",
    "new_y = []\n",
    "for i in range(len(quantizing_signal)):\n",
    "    new_y += [quantizing_signal[i]] * int(new_l)\n",
    "\n",
    "Audio(new_y, rate=44100)"
   ]
  }
 ],
 "metadata": {
  "kernelspec": {
   "display_name": "Python 3",
   "language": "python",
   "name": "python3"
  },
  "language_info": {
   "codemirror_mode": {
    "name": "ipython",
    "version": 3
   },
   "file_extension": ".py",
   "mimetype": "text/x-python",
   "name": "python",
   "nbconvert_exporter": "python",
   "pygments_lexer": "ipython3",
   "version": "3.7.3"
  }
 },
 "nbformat": 4,
 "nbformat_minor": 2
}
